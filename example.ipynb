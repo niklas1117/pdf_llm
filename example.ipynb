{
 "cells": [
  {
   "cell_type": "markdown",
   "metadata": {},
   "source": [
    "# PdfLLMRefine Example"
   ]
  },
  {
   "cell_type": "markdown",
   "metadata": {},
   "source": [
    "### Imports and Setup"
   ]
  },
  {
   "cell_type": "code",
   "execution_count": 1,
   "metadata": {},
   "outputs": [],
   "source": [
    "from pdf_llm import PdfLLMRefine\n",
    "from pathlib import Path\n",
    "import os\n",
    "\n",
    "# get paths to papers\n",
    "paths = [Path().cwd().joinpath('factor_momentum_papers').joinpath(paper) for paper in os.listdir('factor_momentum_papers')]\n"
   ]
  },
  {
   "cell_type": "markdown",
   "metadata": {},
   "source": [
    "### Creating an instance of PdfLLMRefine\n",
    "the argumemts we can use are: \n",
    "* **filepath**: path to the pdf that we want to summarise\n",
    "* **model_name**: name of the OpenAI model (e.g. gpt-4 or gpt3.5-turbo)\n",
    "* **temperature**: higher values make the output more random\n",
    "\n",
    "Note: gpt-4 only works of you have paid openai before \n"
   ]
  },
  {
   "cell_type": "code",
   "execution_count": 2,
   "metadata": {},
   "outputs": [],
   "source": [
    "pdf_llm_refine = PdfLLMRefine(\n",
    "    filepath = paths[0],\n",
    "    model_name= 'gpt-3.5-turbo',\n",
    "    temperature=0\n",
    ")"
   ]
  },
  {
   "cell_type": "markdown",
   "metadata": {},
   "source": [
    "#### We can ask the Pdf questions"
   ]
  },
  {
   "cell_type": "code",
   "execution_count": 3,
   "metadata": {},
   "outputs": [
    {
     "name": "stderr",
     "output_type": "stream",
     "text": [
      "INFO:/Users/niklasgaertner/Desktop/coding/gpt_research/factor_momentum_papers/factor_momentum_and_momentum_factor.pdf.log:LOADED PAGES\n",
      "INFO:chromadb.telemetry.posthog:Anonymized telemetry enabled. See https://docs.trychroma.com/telemetry for more information.\n"
     ]
    },
    {
     "data": {
      "text/plain": [
       "\"The authors are using monthly factor data from three sources: Kenneth French's data library, AQR's data library, and Robert Stambaugh's data library.\""
      ]
     },
     "execution_count": 3,
     "metadata": {},
     "output_type": "execute_result"
    }
   ],
   "source": [
    "pdf_llm_refine.ask_question('What data are the authors using?')"
   ]
  },
  {
   "cell_type": "markdown",
   "metadata": {},
   "source": [
    "#### Or we can generate a summary"
   ]
  },
  {
   "cell_type": "code",
   "execution_count": null,
   "metadata": {},
   "outputs": [
    {
     "name": "stderr",
     "output_type": "stream",
     "text": [
      "INFO:/Users/niklasgaertner/Desktop/coding/gpt_research/factor_momentum_papers/factor_momentum_and_momentum_factor.pdf.log:CREATED REFINE CHAIN\n"
     ]
    },
    {
     "ename": "AttributeError",
     "evalue": "'PdfLLMRefine' object has no attribute 'get_chain'",
     "output_type": "error",
     "traceback": [
      "\u001b[0;31m---------------------------------------------------------------------------\u001b[0m",
      "\u001b[0;31mAttributeError\u001b[0m                            Traceback (most recent call last)",
      "Cell \u001b[0;32mIn[14], line 1\u001b[0m\n\u001b[0;32m----> 1\u001b[0m pdf_llm_refine\u001b[39m.\u001b[39;49mdetailed_summary\n",
      "File \u001b[0;32m/opt/homebrew/Cellar/python@3.10/3.10.9/Frameworks/Python.framework/Versions/3.10/lib/python3.10/functools.py:981\u001b[0m, in \u001b[0;36mcached_property.__get__\u001b[0;34m(self, instance, owner)\u001b[0m\n\u001b[1;32m    979\u001b[0m val \u001b[39m=\u001b[39m cache\u001b[39m.\u001b[39mget(\u001b[39mself\u001b[39m\u001b[39m.\u001b[39mattrname, _NOT_FOUND)\n\u001b[1;32m    980\u001b[0m \u001b[39mif\u001b[39;00m val \u001b[39mis\u001b[39;00m _NOT_FOUND:\n\u001b[0;32m--> 981\u001b[0m     val \u001b[39m=\u001b[39m \u001b[39mself\u001b[39;49m\u001b[39m.\u001b[39;49mfunc(instance)\n\u001b[1;32m    982\u001b[0m     \u001b[39mtry\u001b[39;00m:\n\u001b[1;32m    983\u001b[0m         cache[\u001b[39mself\u001b[39m\u001b[39m.\u001b[39mattrname] \u001b[39m=\u001b[39m val\n",
      "File \u001b[0;32m~/Desktop/coding/gpt_research/pdf_llm.py:169\u001b[0m, in \u001b[0;36mBasePdfLLM.detailed_summary\u001b[0;34m(self)\u001b[0m\n\u001b[1;32m    167\u001b[0m \u001b[39m@cached_property\u001b[39m\n\u001b[1;32m    168\u001b[0m \u001b[39mdef\u001b[39;00m \u001b[39mdetailed_summary\u001b[39m(\u001b[39mself\u001b[39m):\n\u001b[0;32m--> 169\u001b[0m     \u001b[39mreturn\u001b[39;00m \u001b[39mself\u001b[39;49m\u001b[39m.\u001b[39;49mget_summary(\u001b[39mself\u001b[39;49m\u001b[39m.\u001b[39;49mpromt_template)\n",
      "File \u001b[0;32m~/Desktop/coding/gpt_research/pdf_llm.py:201\u001b[0m, in \u001b[0;36mPdfLLMRefine.get_summary\u001b[0;34m(self, prompt_template)\u001b[0m\n\u001b[1;32m    190\u001b[0m chain \u001b[39m=\u001b[39m load_summarize_chain(\n\u001b[1;32m    191\u001b[0m     llm\u001b[39m=\u001b[39m\u001b[39mself\u001b[39m\u001b[39m.\u001b[39mllm,\n\u001b[1;32m    192\u001b[0m     chain_type\u001b[39m=\u001b[39m\u001b[39m\"\u001b[39m\u001b[39mrefine\u001b[39m\u001b[39m\"\u001b[39m,\n\u001b[0;32m   (...)\u001b[0m\n\u001b[1;32m    197\u001b[0m     output_key\u001b[39m=\u001b[39m\u001b[39m\"\u001b[39m\u001b[39moutput_text\u001b[39m\u001b[39m\"\u001b[39m,\n\u001b[1;32m    198\u001b[0m )\n\u001b[1;32m    199\u001b[0m \u001b[39mself\u001b[39m\u001b[39m.\u001b[39mlogger\u001b[39m.\u001b[39minfo(\u001b[39m'\u001b[39m\u001b[39mCREATED REFINE CHAIN\u001b[39m\u001b[39m'\u001b[39m)\n\u001b[0;32m--> 201\u001b[0m chain \u001b[39m=\u001b[39m \u001b[39mself\u001b[39;49m\u001b[39m.\u001b[39;49mget_chain(prompt_template)\n\u001b[1;32m    202\u001b[0m pages \u001b[39m=\u001b[39m \u001b[39mself\u001b[39m\u001b[39m.\u001b[39mpages\n\u001b[1;32m    203\u001b[0m \u001b[39mself\u001b[39m\u001b[39m.\u001b[39mlogger\u001b[39m.\u001b[39minfo(\u001b[39m'\u001b[39m\u001b[39mRUNNING REFINE CHAIN..\u001b[39m\u001b[39m'\u001b[39m)\n",
      "\u001b[0;31mAttributeError\u001b[0m: 'PdfLLMRefine' object has no attribute 'get_chain'"
     ]
    }
   ],
   "source": [
    "pdf_llm_refine.detailed_summary"
   ]
  },
  {
   "cell_type": "markdown",
   "metadata": {},
   "source": [
    "Finally, we can add this save this summary as a .tex file. \n",
    "(In VSCode we can install the Latex Workshop extension to generate PDFs)"
   ]
  },
  {
   "cell_type": "code",
   "execution_count": 4,
   "metadata": {},
   "outputs": [
    {
     "name": "stderr",
     "output_type": "stream",
     "text": [
      "INFO:/Users/niklasgaertner/Desktop/coding/gpt_research/factor_momentum_papers/factor_momentum_and_momentum_factor.pdf.log:CREATED REFINE CHAIN\n",
      "INFO:/Users/niklasgaertner/Desktop/coding/gpt_research/factor_momentum_papers/factor_momentum_and_momentum_factor.pdf.log:RUNNING REFINE CHAIN..\n"
     ]
    }
   ],
   "source": [
    "pdf_llm_refine.save_latex_summary()"
   ]
  },
  {
   "cell_type": "markdown",
   "metadata": {},
   "source": [
    "#### Examples of Summaries can be found in fmom_summaries"
   ]
  }
 ],
 "metadata": {
  "kernelspec": {
   "display_name": "venv",
   "language": "python",
   "name": "python3"
  },
  "language_info": {
   "codemirror_mode": {
    "name": "ipython",
    "version": 3
   },
   "file_extension": ".py",
   "mimetype": "text/x-python",
   "name": "python",
   "nbconvert_exporter": "python",
   "pygments_lexer": "ipython3",
   "version": "3.10.9"
  },
  "orig_nbformat": 4
 },
 "nbformat": 4,
 "nbformat_minor": 2
}
